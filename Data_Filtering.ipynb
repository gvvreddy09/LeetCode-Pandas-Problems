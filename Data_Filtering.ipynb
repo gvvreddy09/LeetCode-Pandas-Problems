{
 "cells": [
  {
   "cell_type": "code",
   "execution_count": 1,
   "id": "7258f093-135d-4a6f-bdeb-2bc0086a9caa",
   "metadata": {},
   "outputs": [],
   "source": [
    "import pandas as pd\n",
    "import numpy as np"
   ]
  },
  {
   "cell_type": "markdown",
   "id": "89ce8274-078b-44fa-bc65-ddc70676b807",
   "metadata": {},
   "source": [
    "### Big Countries"
   ]
  },
  {
   "cell_type": "code",
   "execution_count": 2,
   "id": "70bf3e1d-350c-46b0-ad31-9a5c8dcc7ade",
   "metadata": {},
   "outputs": [],
   "source": [
    "world_dict = {\n",
    "    'name':['Afghanistan', 'Albania', 'Algeria', 'Andorra', 'Angola'],\n",
    "    'continent': ['Asia', 'Europe', 'Africa', 'Europe', 'Africa'],\n",
    "    'area': [652230, 28748, 2381741, 468, 1246700],\n",
    "    'population': [25500100, 2831741, 37100000, 78115, 20609294],\n",
    "    'gdp':[20343000000, 12960000000, 188681000000, 3712000000, 100990000000]\n",
    "}"
   ]
  },
  {
   "cell_type": "code",
   "execution_count": 3,
   "id": "2c4f2f4c-b95b-42f4-b825-c6813760d123",
   "metadata": {},
   "outputs": [],
   "source": [
    "world = pd.DataFrame(world_dict)"
   ]
  },
  {
   "cell_type": "code",
   "execution_count": 4,
   "id": "c445229a-ba1e-4948-a2b5-e16397c44f54",
   "metadata": {},
   "outputs": [
    {
     "name": "stdout",
     "output_type": "stream",
     "text": [
      "<class 'pandas.core.frame.DataFrame'>\n",
      "RangeIndex: 5 entries, 0 to 4\n",
      "Data columns (total 5 columns):\n",
      " #   Column      Non-Null Count  Dtype \n",
      "---  ------      --------------  ----- \n",
      " 0   name        5 non-null      object\n",
      " 1   continent   5 non-null      object\n",
      " 2   area        5 non-null      int64 \n",
      " 3   population  5 non-null      int64 \n",
      " 4   gdp         5 non-null      int64 \n",
      "dtypes: int64(3), object(2)\n",
      "memory usage: 328.0+ bytes\n"
     ]
    }
   ],
   "source": [
    "world.info()"
   ]
  },
  {
   "cell_type": "markdown",
   "id": "38b51534-7cce-4f14-aa5f-ac1e07946f5f",
   "metadata": {},
   "source": [
    "Problem Statement\n",
    "\n",
    "A country is big if:\r\n",
    "\r\n",
    "it has an area of at least three million (i.., 3000000 km),  r\r\n",
    "it has a population of at least twenty-five million (i ., 250000.0\n",
    ").\r\n",
    "Write a solution to find the name, population, and area of the big countries.\r\n",
    "\r\n",
    "Return the result table in any order."
   ]
  },
  {
   "cell_type": "code",
   "execution_count": 5,
   "id": "705798a4-6dcf-4245-a5f2-245de60af17a",
   "metadata": {},
   "outputs": [
    {
     "data": {
      "text/html": [
       "<div>\n",
       "<style scoped>\n",
       "    .dataframe tbody tr th:only-of-type {\n",
       "        vertical-align: middle;\n",
       "    }\n",
       "\n",
       "    .dataframe tbody tr th {\n",
       "        vertical-align: top;\n",
       "    }\n",
       "\n",
       "    .dataframe thead th {\n",
       "        text-align: right;\n",
       "    }\n",
       "</style>\n",
       "<table border=\"1\" class=\"dataframe\">\n",
       "  <thead>\n",
       "    <tr style=\"text-align: right;\">\n",
       "      <th></th>\n",
       "      <th>name</th>\n",
       "      <th>area</th>\n",
       "      <th>population</th>\n",
       "    </tr>\n",
       "  </thead>\n",
       "  <tbody>\n",
       "    <tr>\n",
       "      <th>0</th>\n",
       "      <td>Afghanistan</td>\n",
       "      <td>652230</td>\n",
       "      <td>25500100</td>\n",
       "    </tr>\n",
       "    <tr>\n",
       "      <th>2</th>\n",
       "      <td>Algeria</td>\n",
       "      <td>2381741</td>\n",
       "      <td>37100000</td>\n",
       "    </tr>\n",
       "  </tbody>\n",
       "</table>\n",
       "</div>"
      ],
      "text/plain": [
       "          name     area  population\n",
       "0  Afghanistan   652230    25500100\n",
       "2      Algeria  2381741    37100000"
      ]
     },
     "execution_count": 5,
     "metadata": {},
     "output_type": "execute_result"
    }
   ],
   "source": [
    "world[(world['area']>=3000000) | (world['population']>=25000000)][['name', 'area', 'population']]"
   ]
  },
  {
   "cell_type": "code",
   "execution_count": 6,
   "id": "cea5711b-d0b7-4eff-b82b-2c4c03a51d80",
   "metadata": {},
   "outputs": [
    {
     "data": {
      "text/html": [
       "<div>\n",
       "<style scoped>\n",
       "    .dataframe tbody tr th:only-of-type {\n",
       "        vertical-align: middle;\n",
       "    }\n",
       "\n",
       "    .dataframe tbody tr th {\n",
       "        vertical-align: top;\n",
       "    }\n",
       "\n",
       "    .dataframe thead th {\n",
       "        text-align: right;\n",
       "    }\n",
       "</style>\n",
       "<table border=\"1\" class=\"dataframe\">\n",
       "  <thead>\n",
       "    <tr style=\"text-align: right;\">\n",
       "      <th></th>\n",
       "      <th>name</th>\n",
       "      <th>area</th>\n",
       "      <th>population</th>\n",
       "    </tr>\n",
       "  </thead>\n",
       "  <tbody>\n",
       "    <tr>\n",
       "      <th>0</th>\n",
       "      <td>Afghanistan</td>\n",
       "      <td>652230</td>\n",
       "      <td>25500100</td>\n",
       "    </tr>\n",
       "    <tr>\n",
       "      <th>2</th>\n",
       "      <td>Algeria</td>\n",
       "      <td>2381741</td>\n",
       "      <td>37100000</td>\n",
       "    </tr>\n",
       "  </tbody>\n",
       "</table>\n",
       "</div>"
      ],
      "text/plain": [
       "          name     area  population\n",
       "0  Afghanistan   652230    25500100\n",
       "2      Algeria  2381741    37100000"
      ]
     },
     "execution_count": 6,
     "metadata": {},
     "output_type": "execute_result"
    }
   ],
   "source": [
    "world[['name', 'area', 'population']][(world['area']>=3000000) | (world['population']>=25000000)]"
   ]
  },
  {
   "cell_type": "code",
   "execution_count": 7,
   "id": "139ec8cc-87bc-4a26-99df-4df44b0e2190",
   "metadata": {},
   "outputs": [],
   "source": [
    "condition = (world['area']>=3000000) | (world['population']>=25000000)"
   ]
  },
  {
   "cell_type": "code",
   "execution_count": 8,
   "id": "3f3483c6-25ad-49b8-b30b-0b83e7936798",
   "metadata": {},
   "outputs": [
    {
     "data": {
      "text/html": [
       "<div>\n",
       "<style scoped>\n",
       "    .dataframe tbody tr th:only-of-type {\n",
       "        vertical-align: middle;\n",
       "    }\n",
       "\n",
       "    .dataframe tbody tr th {\n",
       "        vertical-align: top;\n",
       "    }\n",
       "\n",
       "    .dataframe thead th {\n",
       "        text-align: right;\n",
       "    }\n",
       "</style>\n",
       "<table border=\"1\" class=\"dataframe\">\n",
       "  <thead>\n",
       "    <tr style=\"text-align: right;\">\n",
       "      <th></th>\n",
       "      <th>name</th>\n",
       "      <th>continent</th>\n",
       "      <th>area</th>\n",
       "      <th>population</th>\n",
       "      <th>gdp</th>\n",
       "    </tr>\n",
       "  </thead>\n",
       "  <tbody>\n",
       "    <tr>\n",
       "      <th>0</th>\n",
       "      <td>Afghanistan</td>\n",
       "      <td>Asia</td>\n",
       "      <td>652230.0</td>\n",
       "      <td>25500100.0</td>\n",
       "      <td>2.034300e+10</td>\n",
       "    </tr>\n",
       "    <tr>\n",
       "      <th>1</th>\n",
       "      <td>NaN</td>\n",
       "      <td>NaN</td>\n",
       "      <td>NaN</td>\n",
       "      <td>NaN</td>\n",
       "      <td>NaN</td>\n",
       "    </tr>\n",
       "    <tr>\n",
       "      <th>2</th>\n",
       "      <td>Algeria</td>\n",
       "      <td>Africa</td>\n",
       "      <td>2381741.0</td>\n",
       "      <td>37100000.0</td>\n",
       "      <td>1.886810e+11</td>\n",
       "    </tr>\n",
       "    <tr>\n",
       "      <th>3</th>\n",
       "      <td>NaN</td>\n",
       "      <td>NaN</td>\n",
       "      <td>NaN</td>\n",
       "      <td>NaN</td>\n",
       "      <td>NaN</td>\n",
       "    </tr>\n",
       "    <tr>\n",
       "      <th>4</th>\n",
       "      <td>NaN</td>\n",
       "      <td>NaN</td>\n",
       "      <td>NaN</td>\n",
       "      <td>NaN</td>\n",
       "      <td>NaN</td>\n",
       "    </tr>\n",
       "  </tbody>\n",
       "</table>\n",
       "</div>"
      ],
      "text/plain": [
       "          name continent       area  population           gdp\n",
       "0  Afghanistan      Asia   652230.0  25500100.0  2.034300e+10\n",
       "1          NaN       NaN        NaN         NaN           NaN\n",
       "2      Algeria    Africa  2381741.0  37100000.0  1.886810e+11\n",
       "3          NaN       NaN        NaN         NaN           NaN\n",
       "4          NaN       NaN        NaN         NaN           NaN"
      ]
     },
     "execution_count": 8,
     "metadata": {},
     "output_type": "execute_result"
    }
   ],
   "source": [
    "world.where(condition)"
   ]
  },
  {
   "cell_type": "markdown",
   "id": "f6c975a8-010c-4aa6-8c42-6150ba30467d",
   "metadata": {},
   "source": [
    "### Recyclable and Low Fat Products"
   ]
  },
  {
   "cell_type": "code",
   "execution_count": 9,
   "id": "40ebb4de-e781-4aef-b2f6-d6e9fb26b9f1",
   "metadata": {},
   "outputs": [],
   "source": [
    "Products_dict = {\n",
    "    'product_id':[0,1,2,3,4],\n",
    "    'low_fats':['Y', 'Y', 'N', 'Y', 'N'],\n",
    "    'recyclable':['N', 'Y', 'Y', 'Y', 'N']\n",
    "}"
   ]
  },
  {
   "cell_type": "code",
   "execution_count": 10,
   "id": "d45333e7-7be2-4446-af49-d5148a9084f9",
   "metadata": {},
   "outputs": [
    {
     "data": {
      "text/html": [
       "<div>\n",
       "<style scoped>\n",
       "    .dataframe tbody tr th:only-of-type {\n",
       "        vertical-align: middle;\n",
       "    }\n",
       "\n",
       "    .dataframe tbody tr th {\n",
       "        vertical-align: top;\n",
       "    }\n",
       "\n",
       "    .dataframe thead th {\n",
       "        text-align: right;\n",
       "    }\n",
       "</style>\n",
       "<table border=\"1\" class=\"dataframe\">\n",
       "  <thead>\n",
       "    <tr style=\"text-align: right;\">\n",
       "      <th></th>\n",
       "      <th>product_id</th>\n",
       "      <th>low_fats</th>\n",
       "      <th>recyclable</th>\n",
       "    </tr>\n",
       "  </thead>\n",
       "  <tbody>\n",
       "    <tr>\n",
       "      <th>0</th>\n",
       "      <td>0</td>\n",
       "      <td>Y</td>\n",
       "      <td>N</td>\n",
       "    </tr>\n",
       "    <tr>\n",
       "      <th>1</th>\n",
       "      <td>1</td>\n",
       "      <td>Y</td>\n",
       "      <td>Y</td>\n",
       "    </tr>\n",
       "    <tr>\n",
       "      <th>2</th>\n",
       "      <td>2</td>\n",
       "      <td>N</td>\n",
       "      <td>Y</td>\n",
       "    </tr>\n",
       "    <tr>\n",
       "      <th>3</th>\n",
       "      <td>3</td>\n",
       "      <td>Y</td>\n",
       "      <td>Y</td>\n",
       "    </tr>\n",
       "    <tr>\n",
       "      <th>4</th>\n",
       "      <td>4</td>\n",
       "      <td>N</td>\n",
       "      <td>N</td>\n",
       "    </tr>\n",
       "  </tbody>\n",
       "</table>\n",
       "</div>"
      ],
      "text/plain": [
       "   product_id low_fats recyclable\n",
       "0           0        Y          N\n",
       "1           1        Y          Y\n",
       "2           2        N          Y\n",
       "3           3        Y          Y\n",
       "4           4        N          N"
      ]
     },
     "execution_count": 10,
     "metadata": {},
     "output_type": "execute_result"
    }
   ],
   "source": [
    "Products=pd.DataFrame(Products_dict)\n",
    "\n",
    "Products"
   ]
  },
  {
   "cell_type": "markdown",
   "id": "90609562-0448-4e1c-8299-96d53b507b88",
   "metadata": {},
   "source": [
    "Write a solution to find the ids of products that are both low fat and recyclable."
   ]
  },
  {
   "cell_type": "code",
   "execution_count": 11,
   "id": "74a368b0-3bf6-4e63-9e58-734fca1857c4",
   "metadata": {},
   "outputs": [
    {
     "data": {
      "text/html": [
       "<div>\n",
       "<style scoped>\n",
       "    .dataframe tbody tr th:only-of-type {\n",
       "        vertical-align: middle;\n",
       "    }\n",
       "\n",
       "    .dataframe tbody tr th {\n",
       "        vertical-align: top;\n",
       "    }\n",
       "\n",
       "    .dataframe thead th {\n",
       "        text-align: right;\n",
       "    }\n",
       "</style>\n",
       "<table border=\"1\" class=\"dataframe\">\n",
       "  <thead>\n",
       "    <tr style=\"text-align: right;\">\n",
       "      <th></th>\n",
       "      <th>product_id</th>\n",
       "    </tr>\n",
       "  </thead>\n",
       "  <tbody>\n",
       "    <tr>\n",
       "      <th>1</th>\n",
       "      <td>1</td>\n",
       "    </tr>\n",
       "    <tr>\n",
       "      <th>3</th>\n",
       "      <td>3</td>\n",
       "    </tr>\n",
       "  </tbody>\n",
       "</table>\n",
       "</div>"
      ],
      "text/plain": [
       "   product_id\n",
       "1           1\n",
       "3           3"
      ]
     },
     "execution_count": 11,
     "metadata": {},
     "output_type": "execute_result"
    }
   ],
   "source": [
    "Products[(Products.low_fats=='Y') & (Products.recyclable=='Y')][['product_id']]"
   ]
  },
  {
   "cell_type": "code",
   "execution_count": 12,
   "id": "d34d8916-0ea2-41f1-b4d3-cf31ba2c0bc7",
   "metadata": {},
   "outputs": [
    {
     "data": {
      "text/html": [
       "<div>\n",
       "<style scoped>\n",
       "    .dataframe tbody tr th:only-of-type {\n",
       "        vertical-align: middle;\n",
       "    }\n",
       "\n",
       "    .dataframe tbody tr th {\n",
       "        vertical-align: top;\n",
       "    }\n",
       "\n",
       "    .dataframe thead th {\n",
       "        text-align: right;\n",
       "    }\n",
       "</style>\n",
       "<table border=\"1\" class=\"dataframe\">\n",
       "  <thead>\n",
       "    <tr style=\"text-align: right;\">\n",
       "      <th></th>\n",
       "      <th>product_id</th>\n",
       "    </tr>\n",
       "  </thead>\n",
       "  <tbody>\n",
       "    <tr>\n",
       "      <th>1</th>\n",
       "      <td>1</td>\n",
       "    </tr>\n",
       "    <tr>\n",
       "      <th>3</th>\n",
       "      <td>3</td>\n",
       "    </tr>\n",
       "  </tbody>\n",
       "</table>\n",
       "</div>"
      ],
      "text/plain": [
       "   product_id\n",
       "1           1\n",
       "3           3"
      ]
     },
     "execution_count": 12,
     "metadata": {},
     "output_type": "execute_result"
    }
   ],
   "source": [
    "Products[['product_id']][(Products.low_fats=='Y') & (Products.recyclable=='Y')]"
   ]
  },
  {
   "cell_type": "markdown",
   "id": "58c1db1f-9efe-44f4-a884-5b6c53217f5b",
   "metadata": {},
   "source": [
    "### Customers who never order"
   ]
  },
  {
   "cell_type": "code",
   "execution_count": 13,
   "id": "8ef0990a-d7d8-4d2c-81da-4fee8a373e96",
   "metadata": {},
   "outputs": [],
   "source": [
    "customers_dict = {\n",
    "    'id':[1,2,3,4],\n",
    "    'name':['joe', 'henry', 'sam', 'max']\n",
    "}\n",
    "\n",
    "orders_dict = {\n",
    "    'id':[1,3],\n",
    "    'customerId':[2,1]\n",
    "}"
   ]
  },
  {
   "cell_type": "code",
   "execution_count": 14,
   "id": "7a410561-7c08-4553-80e1-dea5f721d3df",
   "metadata": {},
   "outputs": [
    {
     "name": "stdout",
     "output_type": "stream",
     "text": [
      "   id   name\n",
      "0   1    joe\n",
      "1   2  henry\n",
      "2   3    sam\n",
      "3   4    max\n",
      "   id  customerId\n",
      "0   1           2\n",
      "1   3           1\n"
     ]
    }
   ],
   "source": [
    "customers = pd.DataFrame(customers_dict)\n",
    "print(customers)\n",
    "\n",
    "orders = pd.DataFrame(orders_dict)\n",
    "print(orders)"
   ]
  },
  {
   "cell_type": "markdown",
   "id": "a19df0f1-057d-49d0-9665-d8204a875092",
   "metadata": {},
   "source": [
    "Write a solution to find all customers who never order anything."
   ]
  },
  {
   "cell_type": "code",
   "execution_count": 15,
   "id": "3310ee6b-88b1-427d-94df-dd58ffee4bd4",
   "metadata": {},
   "outputs": [
    {
     "data": {
      "text/html": [
       "<div>\n",
       "<style scoped>\n",
       "    .dataframe tbody tr th:only-of-type {\n",
       "        vertical-align: middle;\n",
       "    }\n",
       "\n",
       "    .dataframe tbody tr th {\n",
       "        vertical-align: top;\n",
       "    }\n",
       "\n",
       "    .dataframe thead th {\n",
       "        text-align: right;\n",
       "    }\n",
       "</style>\n",
       "<table border=\"1\" class=\"dataframe\">\n",
       "  <thead>\n",
       "    <tr style=\"text-align: right;\">\n",
       "      <th></th>\n",
       "      <th>id_orders</th>\n",
       "      <th>customerId</th>\n",
       "      <th>id_customer</th>\n",
       "      <th>name</th>\n",
       "    </tr>\n",
       "  </thead>\n",
       "  <tbody>\n",
       "    <tr>\n",
       "      <th>0</th>\n",
       "      <td>3.0</td>\n",
       "      <td>1.0</td>\n",
       "      <td>1</td>\n",
       "      <td>joe</td>\n",
       "    </tr>\n",
       "    <tr>\n",
       "      <th>1</th>\n",
       "      <td>1.0</td>\n",
       "      <td>2.0</td>\n",
       "      <td>2</td>\n",
       "      <td>henry</td>\n",
       "    </tr>\n",
       "    <tr>\n",
       "      <th>2</th>\n",
       "      <td>NaN</td>\n",
       "      <td>NaN</td>\n",
       "      <td>3</td>\n",
       "      <td>sam</td>\n",
       "    </tr>\n",
       "    <tr>\n",
       "      <th>3</th>\n",
       "      <td>NaN</td>\n",
       "      <td>NaN</td>\n",
       "      <td>4</td>\n",
       "      <td>max</td>\n",
       "    </tr>\n",
       "  </tbody>\n",
       "</table>\n",
       "</div>"
      ],
      "text/plain": [
       "   id_orders  customerId  id_customer   name\n",
       "0        3.0         1.0            1    joe\n",
       "1        1.0         2.0            2  henry\n",
       "2        NaN         NaN            3    sam\n",
       "3        NaN         NaN            4    max"
      ]
     },
     "execution_count": 15,
     "metadata": {},
     "output_type": "execute_result"
    }
   ],
   "source": [
    "merged = pd.merge(orders, customers, how='right', left_on='customerId', right_on='id', suffixes=('_orders', '_customer'))\n",
    "merged"
   ]
  },
  {
   "cell_type": "code",
   "execution_count": 16,
   "id": "c4ca8b56-5419-48d6-948d-caa582b94037",
   "metadata": {},
   "outputs": [
    {
     "data": {
      "text/html": [
       "<div>\n",
       "<style scoped>\n",
       "    .dataframe tbody tr th:only-of-type {\n",
       "        vertical-align: middle;\n",
       "    }\n",
       "\n",
       "    .dataframe tbody tr th {\n",
       "        vertical-align: top;\n",
       "    }\n",
       "\n",
       "    .dataframe thead th {\n",
       "        text-align: right;\n",
       "    }\n",
       "</style>\n",
       "<table border=\"1\" class=\"dataframe\">\n",
       "  <thead>\n",
       "    <tr style=\"text-align: right;\">\n",
       "      <th></th>\n",
       "      <th>id_customer</th>\n",
       "    </tr>\n",
       "  </thead>\n",
       "  <tbody>\n",
       "    <tr>\n",
       "      <th>2</th>\n",
       "      <td>3</td>\n",
       "    </tr>\n",
       "    <tr>\n",
       "      <th>3</th>\n",
       "      <td>4</td>\n",
       "    </tr>\n",
       "  </tbody>\n",
       "</table>\n",
       "</div>"
      ],
      "text/plain": [
       "   id_customer\n",
       "2            3\n",
       "3            4"
      ]
     },
     "execution_count": 16,
     "metadata": {},
     "output_type": "execute_result"
    }
   ],
   "source": [
    "merged[pd.isna(merged['customerId'])][['id_customer']]"
   ]
  },
  {
   "cell_type": "markdown",
   "id": "adbd1425-b140-4b6d-9f00-53e8f5ef7768",
   "metadata": {},
   "source": [
    "Approach - 2"
   ]
  },
  {
   "cell_type": "code",
   "execution_count": 17,
   "id": "a17b468f-658b-4111-bffc-d962bc726480",
   "metadata": {},
   "outputs": [
    {
     "data": {
      "text/html": [
       "<div>\n",
       "<style scoped>\n",
       "    .dataframe tbody tr th:only-of-type {\n",
       "        vertical-align: middle;\n",
       "    }\n",
       "\n",
       "    .dataframe tbody tr th {\n",
       "        vertical-align: top;\n",
       "    }\n",
       "\n",
       "    .dataframe thead th {\n",
       "        text-align: right;\n",
       "    }\n",
       "</style>\n",
       "<table border=\"1\" class=\"dataframe\">\n",
       "  <thead>\n",
       "    <tr style=\"text-align: right;\">\n",
       "      <th></th>\n",
       "      <th>id_orders</th>\n",
       "      <th>customerId</th>\n",
       "      <th>id_customer</th>\n",
       "      <th>name</th>\n",
       "      <th>_merge</th>\n",
       "    </tr>\n",
       "  </thead>\n",
       "  <tbody>\n",
       "    <tr>\n",
       "      <th>0</th>\n",
       "      <td>3.0</td>\n",
       "      <td>1.0</td>\n",
       "      <td>1</td>\n",
       "      <td>joe</td>\n",
       "      <td>both</td>\n",
       "    </tr>\n",
       "    <tr>\n",
       "      <th>1</th>\n",
       "      <td>1.0</td>\n",
       "      <td>2.0</td>\n",
       "      <td>2</td>\n",
       "      <td>henry</td>\n",
       "      <td>both</td>\n",
       "    </tr>\n",
       "    <tr>\n",
       "      <th>2</th>\n",
       "      <td>NaN</td>\n",
       "      <td>NaN</td>\n",
       "      <td>3</td>\n",
       "      <td>sam</td>\n",
       "      <td>right_only</td>\n",
       "    </tr>\n",
       "    <tr>\n",
       "      <th>3</th>\n",
       "      <td>NaN</td>\n",
       "      <td>NaN</td>\n",
       "      <td>4</td>\n",
       "      <td>max</td>\n",
       "      <td>right_only</td>\n",
       "    </tr>\n",
       "  </tbody>\n",
       "</table>\n",
       "</div>"
      ],
      "text/plain": [
       "   id_orders  customerId  id_customer   name      _merge\n",
       "0        3.0         1.0            1    joe        both\n",
       "1        1.0         2.0            2  henry        both\n",
       "2        NaN         NaN            3    sam  right_only\n",
       "3        NaN         NaN            4    max  right_only"
      ]
     },
     "execution_count": 17,
     "metadata": {},
     "output_type": "execute_result"
    }
   ],
   "source": [
    "merged = pd.merge(orders, customers, how='right', left_on='customerId', right_on='id', suffixes=('_orders', '_customer'), indicator=True)\n",
    "merged"
   ]
  },
  {
   "cell_type": "code",
   "execution_count": 18,
   "id": "fa39c196-7205-4984-b8ad-4a5455bcf61b",
   "metadata": {},
   "outputs": [
    {
     "data": {
      "text/html": [
       "<div>\n",
       "<style scoped>\n",
       "    .dataframe tbody tr th:only-of-type {\n",
       "        vertical-align: middle;\n",
       "    }\n",
       "\n",
       "    .dataframe tbody tr th {\n",
       "        vertical-align: top;\n",
       "    }\n",
       "\n",
       "    .dataframe thead th {\n",
       "        text-align: right;\n",
       "    }\n",
       "</style>\n",
       "<table border=\"1\" class=\"dataframe\">\n",
       "  <thead>\n",
       "    <tr style=\"text-align: right;\">\n",
       "      <th></th>\n",
       "      <th>Customers</th>\n",
       "    </tr>\n",
       "  </thead>\n",
       "  <tbody>\n",
       "    <tr>\n",
       "      <th>2</th>\n",
       "      <td>sam</td>\n",
       "    </tr>\n",
       "    <tr>\n",
       "      <th>3</th>\n",
       "      <td>max</td>\n",
       "    </tr>\n",
       "  </tbody>\n",
       "</table>\n",
       "</div>"
      ],
      "text/plain": [
       "  Customers\n",
       "2       sam\n",
       "3       max"
      ]
     },
     "execution_count": 18,
     "metadata": {},
     "output_type": "execute_result"
    }
   ],
   "source": [
    "merged[merged['_merge']=='right_only'][['name']].rename(columns={'name':'Customers'})"
   ]
  },
  {
   "cell_type": "markdown",
   "id": "81deb9b9-b845-4830-87cc-e0209447ec6e",
   "metadata": {},
   "source": [
    "### Article Views 1"
   ]
  },
  {
   "cell_type": "markdown",
   "id": "d31f2fb4-f09e-4d19-b736-18b8cc9edf8c",
   "metadata": {},
   "source": [
    "Methods used to solve the problem.\n",
    "\n",
    "- DataFrame\n",
    "- unique\n",
    "- sort_values"
   ]
  },
  {
   "cell_type": "code",
   "execution_count": 19,
   "id": "843c3734-39f5-4364-a6d8-f49ddcc5d20e",
   "metadata": {},
   "outputs": [],
   "source": [
    "views_dict = {\n",
    "     'article_id': [1, 1, 2, 2, 4, 3, 3],\n",
    "     'author_id': [3, 3, 7, 7, 7, 4, 4],\n",
    "     'viewer_id': [5, 6, 7, 6, 1, 4, 4],\n",
    "     'view_date': ['2019-08-01', '2019-08-02', '2019-08-01', '2019-08-02', '2019-07-22', '2019-07-21', '2019-07-21'] \n",
    "}"
   ]
  },
  {
   "cell_type": "code",
   "execution_count": 20,
   "id": "ac7aacc4-fe04-4156-9046-098095347b4c",
   "metadata": {},
   "outputs": [],
   "source": [
    "views = pd.DataFrame(views_dict)"
   ]
  },
  {
   "cell_type": "code",
   "execution_count": 21,
   "id": "bdab77ee-797d-42ed-a328-88d48bc53324",
   "metadata": {},
   "outputs": [
    {
     "data": {
      "text/html": [
       "<div>\n",
       "<style scoped>\n",
       "    .dataframe tbody tr th:only-of-type {\n",
       "        vertical-align: middle;\n",
       "    }\n",
       "\n",
       "    .dataframe tbody tr th {\n",
       "        vertical-align: top;\n",
       "    }\n",
       "\n",
       "    .dataframe thead th {\n",
       "        text-align: right;\n",
       "    }\n",
       "</style>\n",
       "<table border=\"1\" class=\"dataframe\">\n",
       "  <thead>\n",
       "    <tr style=\"text-align: right;\">\n",
       "      <th></th>\n",
       "      <th>article_id</th>\n",
       "      <th>author_id</th>\n",
       "      <th>viewer_id</th>\n",
       "      <th>view_date</th>\n",
       "    </tr>\n",
       "  </thead>\n",
       "  <tbody>\n",
       "    <tr>\n",
       "      <th>0</th>\n",
       "      <td>1</td>\n",
       "      <td>3</td>\n",
       "      <td>5</td>\n",
       "      <td>2019-08-01</td>\n",
       "    </tr>\n",
       "    <tr>\n",
       "      <th>1</th>\n",
       "      <td>1</td>\n",
       "      <td>3</td>\n",
       "      <td>6</td>\n",
       "      <td>2019-08-02</td>\n",
       "    </tr>\n",
       "    <tr>\n",
       "      <th>2</th>\n",
       "      <td>2</td>\n",
       "      <td>7</td>\n",
       "      <td>7</td>\n",
       "      <td>2019-08-01</td>\n",
       "    </tr>\n",
       "    <tr>\n",
       "      <th>3</th>\n",
       "      <td>2</td>\n",
       "      <td>7</td>\n",
       "      <td>6</td>\n",
       "      <td>2019-08-02</td>\n",
       "    </tr>\n",
       "    <tr>\n",
       "      <th>4</th>\n",
       "      <td>4</td>\n",
       "      <td>7</td>\n",
       "      <td>1</td>\n",
       "      <td>2019-07-22</td>\n",
       "    </tr>\n",
       "    <tr>\n",
       "      <th>5</th>\n",
       "      <td>3</td>\n",
       "      <td>4</td>\n",
       "      <td>4</td>\n",
       "      <td>2019-07-21</td>\n",
       "    </tr>\n",
       "    <tr>\n",
       "      <th>6</th>\n",
       "      <td>3</td>\n",
       "      <td>4</td>\n",
       "      <td>4</td>\n",
       "      <td>2019-07-21</td>\n",
       "    </tr>\n",
       "  </tbody>\n",
       "</table>\n",
       "</div>"
      ],
      "text/plain": [
       "   article_id  author_id  viewer_id   view_date\n",
       "0           1          3          5  2019-08-01\n",
       "1           1          3          6  2019-08-02\n",
       "2           2          7          7  2019-08-01\n",
       "3           2          7          6  2019-08-02\n",
       "4           4          7          1  2019-07-22\n",
       "5           3          4          4  2019-07-21\n",
       "6           3          4          4  2019-07-21"
      ]
     },
     "execution_count": 21,
     "metadata": {},
     "output_type": "execute_result"
    }
   ],
   "source": [
    "views"
   ]
  },
  {
   "cell_type": "markdown",
   "id": "eef17ec2-ec98-4506-a765-d41ff64720f5",
   "metadata": {},
   "source": [
    "Write a solution to find all the authors that viewed at least one of their own articles.\r\n",
    "\r\n",
    "Return the result table sorted by id in ascending order."
   ]
  },
  {
   "cell_type": "code",
   "execution_count": 22,
   "id": "9355c19e-d695-4db4-b7bf-155c24d4e519",
   "metadata": {},
   "outputs": [
    {
     "data": {
      "text/plain": [
       "array([7, 4], dtype=int64)"
      ]
     },
     "execution_count": 22,
     "metadata": {},
     "output_type": "execute_result"
    }
   ],
   "source": [
    "filtered_views = views[views.author_id == views.viewer_id]['author_id'].unique()\n",
    "\n",
    "filtered_views # is a array"
   ]
  },
  {
   "cell_type": "code",
   "execution_count": 23,
   "id": "741cedb2-ea72-4018-916a-6b16eba90d7c",
   "metadata": {},
   "outputs": [
    {
     "data": {
      "text/html": [
       "<div>\n",
       "<style scoped>\n",
       "    .dataframe tbody tr th:only-of-type {\n",
       "        vertical-align: middle;\n",
       "    }\n",
       "\n",
       "    .dataframe tbody tr th {\n",
       "        vertical-align: top;\n",
       "    }\n",
       "\n",
       "    .dataframe thead th {\n",
       "        text-align: right;\n",
       "    }\n",
       "</style>\n",
       "<table border=\"1\" class=\"dataframe\">\n",
       "  <thead>\n",
       "    <tr style=\"text-align: right;\">\n",
       "      <th></th>\n",
       "      <th>id</th>\n",
       "    </tr>\n",
       "  </thead>\n",
       "  <tbody>\n",
       "    <tr>\n",
       "      <th>1</th>\n",
       "      <td>4</td>\n",
       "    </tr>\n",
       "    <tr>\n",
       "      <th>0</th>\n",
       "      <td>7</td>\n",
       "    </tr>\n",
       "  </tbody>\n",
       "</table>\n",
       "</div>"
      ],
      "text/plain": [
       "   id\n",
       "1   4\n",
       "0   7"
      ]
     },
     "execution_count": 23,
     "metadata": {},
     "output_type": "execute_result"
    }
   ],
   "source": [
    "# Created a DataFrame using array (filtered_views)\n",
    "filtered_authors = pd.DataFrame(filtered_views, columns=['id'])\n",
    "\n",
    "filtered_authors.sort_values(by='id')"
   ]
  },
  {
   "cell_type": "code",
   "execution_count": null,
   "id": "2ff49c2d-d47e-4857-bacf-f07e140be6ca",
   "metadata": {},
   "outputs": [],
   "source": []
  }
 ],
 "metadata": {
  "kernelspec": {
   "display_name": "Python 3 (ipykernel)",
   "language": "python",
   "name": "python3"
  },
  "language_info": {
   "codemirror_mode": {
    "name": "ipython",
    "version": 3
   },
   "file_extension": ".py",
   "mimetype": "text/x-python",
   "name": "python",
   "nbconvert_exporter": "python",
   "pygments_lexer": "ipython3",
   "version": "3.8.10"
  }
 },
 "nbformat": 4,
 "nbformat_minor": 5
}
