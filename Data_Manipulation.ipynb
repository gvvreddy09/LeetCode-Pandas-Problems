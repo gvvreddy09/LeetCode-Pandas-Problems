{
 "cells": [
  {
   "cell_type": "code",
   "execution_count": 23,
   "id": "5df9ca5a-b55c-4477-9fbc-9270163862e7",
   "metadata": {},
   "outputs": [],
   "source": [
    "import pandas as pd\n",
    "import numpy as np"
   ]
  },
  {
   "cell_type": "markdown",
   "id": "ef0eab27-90c6-4731-a7e5-3320473b67ad",
   "metadata": {},
   "source": [
    "## Nth Highest Salary"
   ]
  },
  {
   "cell_type": "code",
   "execution_count": 24,
   "id": "5beb618c-5f02-405f-8de4-6466f3d55592",
   "metadata": {},
   "outputs": [
    {
     "data": {
      "text/html": [
       "<div>\n",
       "<style scoped>\n",
       "    .dataframe tbody tr th:only-of-type {\n",
       "        vertical-align: middle;\n",
       "    }\n",
       "\n",
       "    .dataframe tbody tr th {\n",
       "        vertical-align: top;\n",
       "    }\n",
       "\n",
       "    .dataframe thead th {\n",
       "        text-align: right;\n",
       "    }\n",
       "</style>\n",
       "<table border=\"1\" class=\"dataframe\">\n",
       "  <thead>\n",
       "    <tr style=\"text-align: right;\">\n",
       "      <th></th>\n",
       "      <th>id</th>\n",
       "      <th>salary</th>\n",
       "    </tr>\n",
       "  </thead>\n",
       "  <tbody>\n",
       "    <tr>\n",
       "      <th>0</th>\n",
       "      <td>1</td>\n",
       "      <td>100</td>\n",
       "    </tr>\n",
       "    <tr>\n",
       "      <th>1</th>\n",
       "      <td>2</td>\n",
       "      <td>200</td>\n",
       "    </tr>\n",
       "    <tr>\n",
       "      <th>2</th>\n",
       "      <td>3</td>\n",
       "      <td>300</td>\n",
       "    </tr>\n",
       "  </tbody>\n",
       "</table>\n",
       "</div>"
      ],
      "text/plain": [
       "   id  salary\n",
       "0   1     100\n",
       "1   2     200\n",
       "2   3     300"
      ]
     },
     "execution_count": 24,
     "metadata": {},
     "output_type": "execute_result"
    }
   ],
   "source": [
    "employee_dict = {\n",
    "    'id': [1,2,3],\n",
    "    'salary': [100,200,300]\n",
    "}\n",
    "N = 2\n",
    "\n",
    "employee = pd.DataFrame(employee_dict)\n",
    "employee"
   ]
  },
  {
   "cell_type": "markdown",
   "id": "07acb92a-c8de-4510-8c9f-26cb043a135f",
   "metadata": {},
   "source": [
    "Write a solution to find the nth highest salary from the Employee table. If there is no nth highest salary, return null."
   ]
  },
  {
   "cell_type": "code",
   "execution_count": 25,
   "id": "445e72d9-405a-4b65-a787-f45c1224e2e8",
   "metadata": {},
   "outputs": [
    {
     "name": "stdout",
     "output_type": "stream",
     "text": [
      "   getNthHighestSalary(2)\n",
      "0                     200\n"
     ]
    }
   ],
   "source": [
    "col = 'getNthHighestSalary' + '(' + str(N) + ')'\n",
    "unique_salaries = employee.drop_duplicates('salary')\n",
    "if (len(unique_salaries)>=N) and (N>0):\n",
    "    NthHighestSalary = employee.nlargest(N, 'salary')['salary'].iloc[-1]\n",
    "    print( pd.DataFrame({col: [NthHighestSalary]}) )\n",
    "else:\n",
    "    print( pd.DataFrame({col: [np.NaN]}) )"
   ]
  },
  {
   "cell_type": "markdown",
   "id": "f04847df-6c47-4f7e-8bed-2c7c4d054602",
   "metadata": {},
   "source": [
    "## Department Highest Salary"
   ]
  },
  {
   "cell_type": "code",
   "execution_count": 26,
   "id": "bb5088d1-185f-4df6-a5e2-07e79c0721ad",
   "metadata": {},
   "outputs": [
    {
     "name": "stdout",
     "output_type": "stream",
     "text": [
      "   id   name  salary  departmentId\n",
      "0   1    Joe   70000             1\n",
      "1   2    Jim   90000             1\n",
      "2   3  Henry   80000             2\n",
      "3   4    Sam   60000             2\n",
      "4   5    Max   90000             1 \n",
      "    id   name\n",
      "0   1     IT\n",
      "1   2  Sales\n"
     ]
    }
   ],
   "source": [
    "employee_dict = {\n",
    "     'id' : [1,2,3,4,5], \n",
    "     'name' : ['Joe', 'Jim', 'Henry', 'Sam', 'Max'],\n",
    "     'salary' : [70000, 90000, 80000, 60000, 90000],\n",
    "     'departmentId' : [1,1,2,2,1] \n",
    "}\n",
    "\n",
    "department_dict = {\n",
    "    'id' : [1,2],\n",
    "    'name' : ['IT', 'Sales']\n",
    "}\n",
    "\n",
    "employee = pd.DataFrame(employee_dict)\n",
    "department = pd.DataFrame(department_dict)\n",
    "\n",
    "print(employee, \"\\n\", department)"
   ]
  },
  {
   "cell_type": "markdown",
   "id": "a8cac713-47af-482d-9dda-f065edd9f76d",
   "metadata": {},
   "source": [
    "Write a solution to find employees who have the highest salary in each of the departments."
   ]
  },
  {
   "cell_type": "code",
   "execution_count": 27,
   "id": "88c551cf-dbcb-402e-afb1-df079fe66b97",
   "metadata": {},
   "outputs": [
    {
     "data": {
      "text/html": [
       "<div>\n",
       "<style scoped>\n",
       "    .dataframe tbody tr th:only-of-type {\n",
       "        vertical-align: middle;\n",
       "    }\n",
       "\n",
       "    .dataframe tbody tr th {\n",
       "        vertical-align: top;\n",
       "    }\n",
       "\n",
       "    .dataframe thead th {\n",
       "        text-align: right;\n",
       "    }\n",
       "</style>\n",
       "<table border=\"1\" class=\"dataframe\">\n",
       "  <thead>\n",
       "    <tr style=\"text-align: right;\">\n",
       "      <th></th>\n",
       "      <th>Department</th>\n",
       "      <th>Employee</th>\n",
       "      <th>Salary</th>\n",
       "    </tr>\n",
       "  </thead>\n",
       "  <tbody>\n",
       "    <tr>\n",
       "      <th>0</th>\n",
       "      <td>IT</td>\n",
       "      <td>Joe</td>\n",
       "      <td>70000</td>\n",
       "    </tr>\n",
       "    <tr>\n",
       "      <th>1</th>\n",
       "      <td>IT</td>\n",
       "      <td>Jim</td>\n",
       "      <td>90000</td>\n",
       "    </tr>\n",
       "    <tr>\n",
       "      <th>2</th>\n",
       "      <td>IT</td>\n",
       "      <td>Max</td>\n",
       "      <td>90000</td>\n",
       "    </tr>\n",
       "    <tr>\n",
       "      <th>3</th>\n",
       "      <td>Sales</td>\n",
       "      <td>Henry</td>\n",
       "      <td>80000</td>\n",
       "    </tr>\n",
       "    <tr>\n",
       "      <th>4</th>\n",
       "      <td>Sales</td>\n",
       "      <td>Sam</td>\n",
       "      <td>60000</td>\n",
       "    </tr>\n",
       "  </tbody>\n",
       "</table>\n",
       "</div>"
      ],
      "text/plain": [
       "  Department Employee  Salary\n",
       "0         IT      Joe   70000\n",
       "1         IT      Jim   90000\n",
       "2         IT      Max   90000\n",
       "3      Sales    Henry   80000\n",
       "4      Sales      Sam   60000"
      ]
     },
     "execution_count": 27,
     "metadata": {},
     "output_type": "execute_result"
    }
   ],
   "source": [
    "# Merge employee and department data frames on department id and fetch necessary columns then rename them\n",
    "merged = pd.merge(left=employee, right=department, how='inner', left_on='departmentId', right_on='id')[['name_y', 'name_x', 'salary']]\n",
    "\n",
    "mapper = {'name_y':'Department', 'name_x':'Employee', 'salary':'Salary'}\n",
    "\n",
    "merged.rename(mapper, axis=1, inplace=True)\n",
    "\n",
    "merged"
   ]
  },
  {
   "cell_type": "code",
   "execution_count": 28,
   "id": "830152ba-0855-46ec-83d5-531af0da1cfd",
   "metadata": {},
   "outputs": [
    {
     "data": {
      "text/html": [
       "<div>\n",
       "<style scoped>\n",
       "    .dataframe tbody tr th:only-of-type {\n",
       "        vertical-align: middle;\n",
       "    }\n",
       "\n",
       "    .dataframe tbody tr th {\n",
       "        vertical-align: top;\n",
       "    }\n",
       "\n",
       "    .dataframe thead th {\n",
       "        text-align: right;\n",
       "    }\n",
       "</style>\n",
       "<table border=\"1\" class=\"dataframe\">\n",
       "  <thead>\n",
       "    <tr style=\"text-align: right;\">\n",
       "      <th></th>\n",
       "      <th>MaxSalary</th>\n",
       "    </tr>\n",
       "    <tr>\n",
       "      <th>Department</th>\n",
       "      <th></th>\n",
       "    </tr>\n",
       "  </thead>\n",
       "  <tbody>\n",
       "    <tr>\n",
       "      <th>IT</th>\n",
       "      <td>90000</td>\n",
       "    </tr>\n",
       "    <tr>\n",
       "      <th>Sales</th>\n",
       "      <td>80000</td>\n",
       "    </tr>\n",
       "  </tbody>\n",
       "</table>\n",
       "</div>"
      ],
      "text/plain": [
       "            MaxSalary\n",
       "Department           \n",
       "IT              90000\n",
       "Sales           80000"
      ]
     },
     "execution_count": 28,
     "metadata": {},
     "output_type": "execute_result"
    }
   ],
   "source": [
    "# Find maximum salary per department by grouping the above merged data frame\n",
    "MaxSalaryPerDepartment = merged.groupby(by='Department').max('Salary').rename(columns={'Salary':'MaxSalary'})\n",
    "\n",
    "MaxSalaryPerDepartment"
   ]
  },
  {
   "cell_type": "code",
   "execution_count": 29,
   "id": "92b81a7a-41e6-4cea-b5b0-1e21fd6af92f",
   "metadata": {},
   "outputs": [
    {
     "data": {
      "text/html": [
       "<div>\n",
       "<style scoped>\n",
       "    .dataframe tbody tr th:only-of-type {\n",
       "        vertical-align: middle;\n",
       "    }\n",
       "\n",
       "    .dataframe tbody tr th {\n",
       "        vertical-align: top;\n",
       "    }\n",
       "\n",
       "    .dataframe thead th {\n",
       "        text-align: right;\n",
       "    }\n",
       "</style>\n",
       "<table border=\"1\" class=\"dataframe\">\n",
       "  <thead>\n",
       "    <tr style=\"text-align: right;\">\n",
       "      <th></th>\n",
       "      <th>Department</th>\n",
       "      <th>Employee</th>\n",
       "      <th>Salary</th>\n",
       "    </tr>\n",
       "  </thead>\n",
       "  <tbody>\n",
       "    <tr>\n",
       "      <th>1</th>\n",
       "      <td>IT</td>\n",
       "      <td>Jim</td>\n",
       "      <td>90000</td>\n",
       "    </tr>\n",
       "    <tr>\n",
       "      <th>2</th>\n",
       "      <td>IT</td>\n",
       "      <td>Max</td>\n",
       "      <td>90000</td>\n",
       "    </tr>\n",
       "    <tr>\n",
       "      <th>3</th>\n",
       "      <td>Sales</td>\n",
       "      <td>Henry</td>\n",
       "      <td>80000</td>\n",
       "    </tr>\n",
       "  </tbody>\n",
       "</table>\n",
       "</div>"
      ],
      "text/plain": [
       "  Department Employee  Salary\n",
       "1         IT      Jim   90000\n",
       "2         IT      Max   90000\n",
       "3      Sales    Henry   80000"
      ]
     },
     "execution_count": 29,
     "metadata": {},
     "output_type": "execute_result"
    }
   ],
   "source": [
    "# Merge the earlier data frame with MaxSalaryPerDepartment on deparment and filter the rows where Salary and MaxSalary are the same\n",
    "MergedWithMax = pd.merge(merged, MaxSalaryPerDepartment, how='inner', on='Department')\n",
    "\n",
    "MergedWithMax[MergedWithMax['Salary'] == MergedWithMax['MaxSalary']][['Department', 'Employee', 'Salary']]"
   ]
  },
  {
   "cell_type": "code",
   "execution_count": 30,
   "id": "71b3d101-b451-42a3-bc08-fc8e731cf1ef",
   "metadata": {},
   "outputs": [
    {
     "data": {
      "text/plain": [
       "0    90000\n",
       "1    90000\n",
       "2    90000\n",
       "3    80000\n",
       "4    80000\n",
       "Name: Salary, dtype: int64"
      ]
     },
     "execution_count": 30,
     "metadata": {},
     "output_type": "execute_result"
    }
   ],
   "source": [
    "result = merged.groupby(by='Department')['Salary'].transform('max')\n",
    "\n",
    "result"
   ]
  },
  {
   "cell_type": "markdown",
   "id": "d778102f-c09f-488e-9c6e-a96bba23a031",
   "metadata": {},
   "source": [
    "## Rank Scores"
   ]
  },
  {
   "cell_type": "code",
   "execution_count": 31,
   "id": "7b3c1b4d-e0c0-461f-b814-bdf732f5c9db",
   "metadata": {},
   "outputs": [
    {
     "data": {
      "text/html": [
       "<div>\n",
       "<style scoped>\n",
       "    .dataframe tbody tr th:only-of-type {\n",
       "        vertical-align: middle;\n",
       "    }\n",
       "\n",
       "    .dataframe tbody tr th {\n",
       "        vertical-align: top;\n",
       "    }\n",
       "\n",
       "    .dataframe thead th {\n",
       "        text-align: right;\n",
       "    }\n",
       "</style>\n",
       "<table border=\"1\" class=\"dataframe\">\n",
       "  <thead>\n",
       "    <tr style=\"text-align: right;\">\n",
       "      <th></th>\n",
       "      <th>id</th>\n",
       "      <th>score</th>\n",
       "    </tr>\n",
       "  </thead>\n",
       "  <tbody>\n",
       "    <tr>\n",
       "      <th>0</th>\n",
       "      <td>1</td>\n",
       "      <td>3.50</td>\n",
       "    </tr>\n",
       "    <tr>\n",
       "      <th>1</th>\n",
       "      <td>2</td>\n",
       "      <td>3.65</td>\n",
       "    </tr>\n",
       "    <tr>\n",
       "      <th>2</th>\n",
       "      <td>3</td>\n",
       "      <td>4.00</td>\n",
       "    </tr>\n",
       "    <tr>\n",
       "      <th>3</th>\n",
       "      <td>4</td>\n",
       "      <td>3.85</td>\n",
       "    </tr>\n",
       "    <tr>\n",
       "      <th>4</th>\n",
       "      <td>5</td>\n",
       "      <td>4.00</td>\n",
       "    </tr>\n",
       "    <tr>\n",
       "      <th>5</th>\n",
       "      <td>6</td>\n",
       "      <td>3.65</td>\n",
       "    </tr>\n",
       "  </tbody>\n",
       "</table>\n",
       "</div>"
      ],
      "text/plain": [
       "   id  score\n",
       "0   1   3.50\n",
       "1   2   3.65\n",
       "2   3   4.00\n",
       "3   4   3.85\n",
       "4   5   4.00\n",
       "5   6   3.65"
      ]
     },
     "execution_count": 31,
     "metadata": {},
     "output_type": "execute_result"
    }
   ],
   "source": [
    "scores_dict = {\n",
    "    'id': [1,2,3,4,5,6],\n",
    "    'score': [3.5,3.65,4.0,3.85,4.0,3.65]\n",
    "}\n",
    "\n",
    "scores = pd.DataFrame(scores_dict)\n",
    "scores"
   ]
  },
  {
   "cell_type": "markdown",
   "id": "fd77cc6c-37cb-4342-b125-fcc56e7e53a1",
   "metadata": {},
   "source": [
    "Write a solution to find the rank of the scores. The ranking should be calculated according to the following rules:\r\n",
    "\r\n",
    "The scores should be ranked from the highest to the lowest.\r\n",
    "If there is a tie between two scores, both should have the same ranking.\r\n",
    "After a tie, the next ranking number should be the next consecutive integer value. In other words, there should be no holes between ranks.\r\n",
    "Return the result table ordered by score in descending order."
   ]
  },
  {
   "cell_type": "code",
   "execution_count": 32,
   "id": "0d248f91-701f-451b-bc56-66d73946b25a",
   "metadata": {},
   "outputs": [
    {
     "data": {
      "text/html": [
       "<div>\n",
       "<style scoped>\n",
       "    .dataframe tbody tr th:only-of-type {\n",
       "        vertical-align: middle;\n",
       "    }\n",
       "\n",
       "    .dataframe tbody tr th {\n",
       "        vertical-align: top;\n",
       "    }\n",
       "\n",
       "    .dataframe thead th {\n",
       "        text-align: right;\n",
       "    }\n",
       "</style>\n",
       "<table border=\"1\" class=\"dataframe\">\n",
       "  <thead>\n",
       "    <tr style=\"text-align: right;\">\n",
       "      <th></th>\n",
       "      <th>score</th>\n",
       "      <th>rank</th>\n",
       "    </tr>\n",
       "  </thead>\n",
       "  <tbody>\n",
       "    <tr>\n",
       "      <th>2</th>\n",
       "      <td>4.00</td>\n",
       "      <td>1</td>\n",
       "    </tr>\n",
       "    <tr>\n",
       "      <th>4</th>\n",
       "      <td>4.00</td>\n",
       "      <td>1</td>\n",
       "    </tr>\n",
       "    <tr>\n",
       "      <th>3</th>\n",
       "      <td>3.85</td>\n",
       "      <td>2</td>\n",
       "    </tr>\n",
       "    <tr>\n",
       "      <th>1</th>\n",
       "      <td>3.65</td>\n",
       "      <td>3</td>\n",
       "    </tr>\n",
       "    <tr>\n",
       "      <th>5</th>\n",
       "      <td>3.65</td>\n",
       "      <td>3</td>\n",
       "    </tr>\n",
       "    <tr>\n",
       "      <th>0</th>\n",
       "      <td>3.50</td>\n",
       "      <td>4</td>\n",
       "    </tr>\n",
       "  </tbody>\n",
       "</table>\n",
       "</div>"
      ],
      "text/plain": [
       "   score  rank\n",
       "2   4.00     1\n",
       "4   4.00     1\n",
       "3   3.85     2\n",
       "1   3.65     3\n",
       "5   3.65     3\n",
       "0   3.50     4"
      ]
     },
     "execution_count": 32,
     "metadata": {},
     "output_type": "execute_result"
    }
   ],
   "source": [
    "# Sort the data frame scores by score descending and create a rank column using rank method.\n",
    "scores['rank'] = scores['score'].rank(method='dense', ascending=False).astype('int')\n",
    "\n",
    "# Return the required columns by sorting rank ascending\n",
    "scores[['score','rank']].sort_values(by='rank')"
   ]
  },
  {
   "cell_type": "code",
   "execution_count": 33,
   "id": "a2a8f5f7-290b-483f-aece-13067e52eb67",
   "metadata": {},
   "outputs": [
    {
     "data": {
      "text/html": [
       "<div>\n",
       "<style scoped>\n",
       "    .dataframe tbody tr th:only-of-type {\n",
       "        vertical-align: middle;\n",
       "    }\n",
       "\n",
       "    .dataframe tbody tr th {\n",
       "        vertical-align: top;\n",
       "    }\n",
       "\n",
       "    .dataframe thead th {\n",
       "        text-align: right;\n",
       "    }\n",
       "</style>\n",
       "<table border=\"1\" class=\"dataframe\">\n",
       "  <thead>\n",
       "    <tr style=\"text-align: right;\">\n",
       "      <th></th>\n",
       "      <th>score</th>\n",
       "      <th>rank</th>\n",
       "    </tr>\n",
       "  </thead>\n",
       "  <tbody>\n",
       "    <tr>\n",
       "      <th>2</th>\n",
       "      <td>4.00</td>\n",
       "      <td>1</td>\n",
       "    </tr>\n",
       "    <tr>\n",
       "      <th>4</th>\n",
       "      <td>4.00</td>\n",
       "      <td>1</td>\n",
       "    </tr>\n",
       "    <tr>\n",
       "      <th>3</th>\n",
       "      <td>3.85</td>\n",
       "      <td>2</td>\n",
       "    </tr>\n",
       "    <tr>\n",
       "      <th>1</th>\n",
       "      <td>3.65</td>\n",
       "      <td>3</td>\n",
       "    </tr>\n",
       "    <tr>\n",
       "      <th>5</th>\n",
       "      <td>3.65</td>\n",
       "      <td>3</td>\n",
       "    </tr>\n",
       "    <tr>\n",
       "      <th>0</th>\n",
       "      <td>3.50</td>\n",
       "      <td>4</td>\n",
       "    </tr>\n",
       "  </tbody>\n",
       "</table>\n",
       "</div>"
      ],
      "text/plain": [
       "   score  rank\n",
       "2   4.00     1\n",
       "4   4.00     1\n",
       "3   3.85     2\n",
       "1   3.65     3\n",
       "5   3.65     3\n",
       "0   3.50     4"
      ]
     },
     "execution_count": 33,
     "metadata": {},
     "output_type": "execute_result"
    }
   ],
   "source": [
    "# Create a new data frame with the existing columns and calculate the new column i.e rank\n",
    "ranked_scores = scores.assign(rank=scores['score'].rank(method='dense', ascending=False).astype(int))\n",
    "\n",
    "# Return the required columns by sorting rank ascending \n",
    "ranked_scores.sort_values(by='rank')[['score', 'rank']]"
   ]
  },
  {
   "cell_type": "markdown",
   "id": "ff2c11ea-9dcd-4b41-a9ad-6d436778f5f6",
   "metadata": {},
   "source": [
    "## Delete Duplicate Emails"
   ]
  },
  {
   "cell_type": "code",
   "execution_count": 35,
   "id": "ac89625b-dd86-4970-aafe-7cc5e4ef42bd",
   "metadata": {},
   "outputs": [
    {
     "data": {
      "text/html": [
       "<div>\n",
       "<style scoped>\n",
       "    .dataframe tbody tr th:only-of-type {\n",
       "        vertical-align: middle;\n",
       "    }\n",
       "\n",
       "    .dataframe tbody tr th {\n",
       "        vertical-align: top;\n",
       "    }\n",
       "\n",
       "    .dataframe thead th {\n",
       "        text-align: right;\n",
       "    }\n",
       "</style>\n",
       "<table border=\"1\" class=\"dataframe\">\n",
       "  <thead>\n",
       "    <tr style=\"text-align: right;\">\n",
       "      <th></th>\n",
       "      <th>id</th>\n",
       "      <th>email</th>\n",
       "    </tr>\n",
       "  </thead>\n",
       "  <tbody>\n",
       "    <tr>\n",
       "      <th>0</th>\n",
       "      <td>1</td>\n",
       "      <td>john@example.com</td>\n",
       "    </tr>\n",
       "    <tr>\n",
       "      <th>1</th>\n",
       "      <td>2</td>\n",
       "      <td>bob@example.com</td>\n",
       "    </tr>\n",
       "    <tr>\n",
       "      <th>2</th>\n",
       "      <td>3</td>\n",
       "      <td>john@example.com</td>\n",
       "    </tr>\n",
       "  </tbody>\n",
       "</table>\n",
       "</div>"
      ],
      "text/plain": [
       "   id             email\n",
       "0   1  john@example.com\n",
       "1   2   bob@example.com\n",
       "2   3  john@example.com"
      ]
     },
     "execution_count": 35,
     "metadata": {},
     "output_type": "execute_result"
    }
   ],
   "source": [
    "person_dict = {\n",
    "    'id': [1,2,3],\n",
    "    'email': ['john@example.com', 'bob@example.com', 'john@example.com']\n",
    "}\n",
    "\n",
    "persons = pd.DataFrame(person_dict)\n",
    "persons"
   ]
  },
  {
   "cell_type": "markdown",
   "id": "73f1274d-02b0-4154-9d80-ffca12d8e316",
   "metadata": {},
   "source": [
    "Write a solution to delete all duplicate emails, keeping only one unique email with the smallest id.e.\r\n",
    "\r\n",
    "For Pandas users, please note that you are supposed to modify Person in place.\r\n",
    "\r\n",
    "After running your script, the answer shown is the Person table. The driver will first compile and run your piece of code and then show the Person table. The final order of the Person table does not matter."
   ]
  },
  {
   "cell_type": "code",
   "execution_count": 43,
   "id": "0c4aff20-4367-4b82-b472-c5d2de0bbb31",
   "metadata": {},
   "outputs": [],
   "source": [
    "persons.sort_values('id', inplace=True)\n",
    "persons.drop_duplicates('email', inplace=True)"
   ]
  },
  {
   "cell_type": "code",
   "execution_count": 44,
   "id": "1efb241f-d9cd-4263-a21e-d3e94555590a",
   "metadata": {},
   "outputs": [
    {
     "data": {
      "text/html": [
       "<div>\n",
       "<style scoped>\n",
       "    .dataframe tbody tr th:only-of-type {\n",
       "        vertical-align: middle;\n",
       "    }\n",
       "\n",
       "    .dataframe tbody tr th {\n",
       "        vertical-align: top;\n",
       "    }\n",
       "\n",
       "    .dataframe thead th {\n",
       "        text-align: right;\n",
       "    }\n",
       "</style>\n",
       "<table border=\"1\" class=\"dataframe\">\n",
       "  <thead>\n",
       "    <tr style=\"text-align: right;\">\n",
       "      <th></th>\n",
       "      <th>id</th>\n",
       "      <th>email</th>\n",
       "    </tr>\n",
       "  </thead>\n",
       "  <tbody>\n",
       "    <tr>\n",
       "      <th>0</th>\n",
       "      <td>1</td>\n",
       "      <td>john@example.com</td>\n",
       "    </tr>\n",
       "    <tr>\n",
       "      <th>1</th>\n",
       "      <td>2</td>\n",
       "      <td>bob@example.com</td>\n",
       "    </tr>\n",
       "  </tbody>\n",
       "</table>\n",
       "</div>"
      ],
      "text/plain": [
       "   id             email\n",
       "0   1  john@example.com\n",
       "1   2   bob@example.com"
      ]
     },
     "execution_count": 44,
     "metadata": {},
     "output_type": "execute_result"
    }
   ],
   "source": [
    "persons"
   ]
  },
  {
   "cell_type": "markdown",
   "id": "1697ce16-e16f-408b-8803-80dcd5977f26",
   "metadata": {},
   "source": [
    "## Rearrange Products Table"
   ]
  },
  {
   "cell_type": "code",
   "execution_count": 48,
   "id": "d2f43a1a-ec8b-454e-ac84-b154b77505de",
   "metadata": {},
   "outputs": [
    {
     "data": {
      "text/html": [
       "<div>\n",
       "<style scoped>\n",
       "    .dataframe tbody tr th:only-of-type {\n",
       "        vertical-align: middle;\n",
       "    }\n",
       "\n",
       "    .dataframe tbody tr th {\n",
       "        vertical-align: top;\n",
       "    }\n",
       "\n",
       "    .dataframe thead th {\n",
       "        text-align: right;\n",
       "    }\n",
       "</style>\n",
       "<table border=\"1\" class=\"dataframe\">\n",
       "  <thead>\n",
       "    <tr style=\"text-align: right;\">\n",
       "      <th></th>\n",
       "      <th>product_id</th>\n",
       "      <th>store1</th>\n",
       "      <th>store2</th>\n",
       "      <th>store3</th>\n",
       "    </tr>\n",
       "  </thead>\n",
       "  <tbody>\n",
       "    <tr>\n",
       "      <th>0</th>\n",
       "      <td>0</td>\n",
       "      <td>95</td>\n",
       "      <td>100.0</td>\n",
       "      <td>105</td>\n",
       "    </tr>\n",
       "    <tr>\n",
       "      <th>1</th>\n",
       "      <td>1</td>\n",
       "      <td>70</td>\n",
       "      <td>NaN</td>\n",
       "      <td>80</td>\n",
       "    </tr>\n",
       "  </tbody>\n",
       "</table>\n",
       "</div>"
      ],
      "text/plain": [
       "   product_id  store1  store2  store3\n",
       "0           0      95   100.0     105\n",
       "1           1      70     NaN      80"
      ]
     },
     "execution_count": 48,
     "metadata": {},
     "output_type": "execute_result"
    }
   ],
   "source": [
    "product_dict = {\n",
    "    'product_id' : [0,1],\n",
    "    'store1' : [95,70],\n",
    "    'store2' : [100, np.NaN],\n",
    "    'store3' : [105, 80]\n",
    "}\n",
    "\n",
    "product = pd.DataFrame(product_dict)\n",
    "product"
   ]
  },
  {
   "cell_type": "markdown",
   "id": "f6a693ab-9eb9-45da-a1e0-ece77316127e",
   "metadata": {},
   "source": [
    "Write a solution to rearrange the Products table so that each row has (product_id, store, price). If a product is not available in a store, do not include a row with that product_id and store combination in the result table."
   ]
  },
  {
   "cell_type": "code",
   "execution_count": 50,
   "id": "8624ccba-9ec2-40c4-8b6e-014b3fed5816",
   "metadata": {},
   "outputs": [
    {
     "data": {
      "text/html": [
       "<div>\n",
       "<style scoped>\n",
       "    .dataframe tbody tr th:only-of-type {\n",
       "        vertical-align: middle;\n",
       "    }\n",
       "\n",
       "    .dataframe tbody tr th {\n",
       "        vertical-align: top;\n",
       "    }\n",
       "\n",
       "    .dataframe thead th {\n",
       "        text-align: right;\n",
       "    }\n",
       "</style>\n",
       "<table border=\"1\" class=\"dataframe\">\n",
       "  <thead>\n",
       "    <tr style=\"text-align: right;\">\n",
       "      <th></th>\n",
       "      <th>product_id</th>\n",
       "      <th>store</th>\n",
       "      <th>price</th>\n",
       "    </tr>\n",
       "  </thead>\n",
       "  <tbody>\n",
       "    <tr>\n",
       "      <th>0</th>\n",
       "      <td>0</td>\n",
       "      <td>store1</td>\n",
       "      <td>95.0</td>\n",
       "    </tr>\n",
       "    <tr>\n",
       "      <th>1</th>\n",
       "      <td>1</td>\n",
       "      <td>store1</td>\n",
       "      <td>70.0</td>\n",
       "    </tr>\n",
       "    <tr>\n",
       "      <th>2</th>\n",
       "      <td>0</td>\n",
       "      <td>store2</td>\n",
       "      <td>100.0</td>\n",
       "    </tr>\n",
       "    <tr>\n",
       "      <th>4</th>\n",
       "      <td>0</td>\n",
       "      <td>store3</td>\n",
       "      <td>105.0</td>\n",
       "    </tr>\n",
       "    <tr>\n",
       "      <th>5</th>\n",
       "      <td>1</td>\n",
       "      <td>store3</td>\n",
       "      <td>80.0</td>\n",
       "    </tr>\n",
       "  </tbody>\n",
       "</table>\n",
       "</div>"
      ],
      "text/plain": [
       "   product_id   store  price\n",
       "0           0  store1   95.0\n",
       "1           1  store1   70.0\n",
       "2           0  store2  100.0\n",
       "4           0  store3  105.0\n",
       "5           1  store3   80.0"
      ]
     },
     "execution_count": 50,
     "metadata": {},
     "output_type": "execute_result"
    }
   ],
   "source": [
    "pd.melt(product, id_vars='product_id', value_vars=['store1', 'store2', 'store3'], var_name='store', value_name='price').dropna()"
   ]
  },
  {
   "cell_type": "code",
   "execution_count": null,
   "id": "188775f6-28e4-4dae-acd0-3c0a863a2892",
   "metadata": {},
   "outputs": [],
   "source": []
  }
 ],
 "metadata": {
  "kernelspec": {
   "display_name": "Python 3 (ipykernel)",
   "language": "python",
   "name": "python3"
  },
  "language_info": {
   "codemirror_mode": {
    "name": "ipython",
    "version": 3
   },
   "file_extension": ".py",
   "mimetype": "text/x-python",
   "name": "python",
   "nbconvert_exporter": "python",
   "pygments_lexer": "ipython3",
   "version": "3.8.10"
  }
 },
 "nbformat": 4,
 "nbformat_minor": 5
}
