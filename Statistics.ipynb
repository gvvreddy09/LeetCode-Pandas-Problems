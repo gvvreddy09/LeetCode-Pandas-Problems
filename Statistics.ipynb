{
 "cells": [
  {
   "cell_type": "code",
   "execution_count": 33,
   "id": "598bd2a6-70f7-4aa3-b993-4945495a9fab",
   "metadata": {},
   "outputs": [],
   "source": [
    "import pandas as pd"
   ]
  },
  {
   "cell_type": "code",
   "execution_count": 34,
   "id": "bb696490-c6a6-40c3-aa84-4fba3bae5cf7",
   "metadata": {},
   "outputs": [
    {
     "name": "stdout",
     "output_type": "stream",
     "text": [
      "<class 'pandas.core.frame.DataFrame'>\n",
      "RangeIndex: 4 entries, 0 to 3\n",
      "Data columns (total 2 columns):\n",
      " #   Column      Non-Null Count  Dtype\n",
      "---  ------      --------------  -----\n",
      " 0   account_id  4 non-null      int64\n",
      " 1   income      4 non-null      int64\n",
      "dtypes: int64(2)\n",
      "memory usage: 192.0 bytes\n"
     ]
    }
   ],
   "source": [
    "accounts_dict = {\n",
    "    'account_id': [3,2,8,6],\n",
    "    'income': [108939, 12747, 87709, 91796]\n",
    "}\n",
    "\n",
    "accounts = pd.DataFrame(accounts_dict)\n",
    "accounts.info()"
   ]
  },
  {
   "cell_type": "markdown",
   "id": "71c1a9d6-9520-4f44-b875-3ea0d26c8e30",
   "metadata": {},
   "source": [
    "Write a solution to calculate the number of bank accounts for each salary category. The salary categories are\r\n",
    "\r\n",
    "- Low Salary: All the salaries are strictly less than 20000\r\n",
    "- Average Salary: All the salaries in the inclusive range (20000, 50000)\r\n",
    "- High Salary: All the salaries are strictly greater than 50000\r\n",
    "\r\n",
    "- The result table must contain all three categories. If there are no accounts in a category, return 0."
   ]
  },
  {
   "cell_type": "code",
   "execution_count": 35,
   "id": "2a003a3b-3938-43f0-9172-5ab0a2d08818",
   "metadata": {},
   "outputs": [],
   "source": [
    "def find_category(n):\n",
    "    if n<20000:\n",
    "        return 'Low Salary'\n",
    "    elif (n>=20000) & (n<=50000):\n",
    "        return 'Average Salary'\n",
    "    else:\n",
    "        return 'High Salary'"
   ]
  },
  {
   "cell_type": "markdown",
   "id": "674b0194-2567-4500-bac2-ee138adc40ec",
   "metadata": {},
   "source": [
    "apply(find_category): This applies the find_category function to each element in the accounts['income'] Series\n",
    "\n",
    "assign(category=...): This adds a new column named category to the DataFrame with the results of the apply method"
   ]
  },
  {
   "cell_type": "code",
   "execution_count": 36,
   "id": "59b7cb0e-9e80-450e-b592-6ec48fdb0c07",
   "metadata": {},
   "outputs": [
    {
     "data": {
      "text/html": [
       "<div>\n",
       "<style scoped>\n",
       "    .dataframe tbody tr th:only-of-type {\n",
       "        vertical-align: middle;\n",
       "    }\n",
       "\n",
       "    .dataframe tbody tr th {\n",
       "        vertical-align: top;\n",
       "    }\n",
       "\n",
       "    .dataframe thead th {\n",
       "        text-align: right;\n",
       "    }\n",
       "</style>\n",
       "<table border=\"1\" class=\"dataframe\">\n",
       "  <thead>\n",
       "    <tr style=\"text-align: right;\">\n",
       "      <th></th>\n",
       "      <th>account_id</th>\n",
       "      <th>income</th>\n",
       "      <th>category</th>\n",
       "    </tr>\n",
       "  </thead>\n",
       "  <tbody>\n",
       "    <tr>\n",
       "      <th>0</th>\n",
       "      <td>3</td>\n",
       "      <td>108939</td>\n",
       "      <td>High Salary</td>\n",
       "    </tr>\n",
       "    <tr>\n",
       "      <th>1</th>\n",
       "      <td>2</td>\n",
       "      <td>12747</td>\n",
       "      <td>Low Salary</td>\n",
       "    </tr>\n",
       "    <tr>\n",
       "      <th>2</th>\n",
       "      <td>8</td>\n",
       "      <td>87709</td>\n",
       "      <td>High Salary</td>\n",
       "    </tr>\n",
       "    <tr>\n",
       "      <th>3</th>\n",
       "      <td>6</td>\n",
       "      <td>91796</td>\n",
       "      <td>High Salary</td>\n",
       "    </tr>\n",
       "  </tbody>\n",
       "</table>\n",
       "</div>"
      ],
      "text/plain": [
       "   account_id  income     category\n",
       "0           3  108939  High Salary\n",
       "1           2   12747   Low Salary\n",
       "2           8   87709  High Salary\n",
       "3           6   91796  High Salary"
      ]
     },
     "execution_count": 36,
     "metadata": {},
     "output_type": "execute_result"
    }
   ],
   "source": [
    "accounts_category = accounts.assign(category=accounts['income'].apply(find_category))\n",
    "\n",
    "accounts_category                                    "
   ]
  },
  {
   "cell_type": "markdown",
   "id": "f727f293-2b6f-437c-964d-a765b2b4f3f2",
   "metadata": {},
   "source": [
    "Grouping and Counting: accounts\\['category'].value_counts() groups by the category column and counts the number of rows in each group\n",
    "\n",
    "Reindexing: .reindex(\\['Low', 'Average', 'High'], fill_value=0) ensures that all specified categories are present in the result. If a category is missing, it fills the count with 0\n",
    "\n",
    "Reset Index: reset_index() converts the Series back to a DataFrame\n",
    "\n",
    "Renaming Columns: columns = \\['category', 'count'] renames the columns to match the desired output format"
   ]
  },
  {
   "cell_type": "code",
   "execution_count": 37,
   "id": "5a907aa1-f04f-4b0c-b1cd-a21f27c7e6b3",
   "metadata": {},
   "outputs": [
    {
     "data": {
      "text/html": [
       "<div>\n",
       "<style scoped>\n",
       "    .dataframe tbody tr th:only-of-type {\n",
       "        vertical-align: middle;\n",
       "    }\n",
       "\n",
       "    .dataframe tbody tr th {\n",
       "        vertical-align: top;\n",
       "    }\n",
       "\n",
       "    .dataframe thead th {\n",
       "        text-align: right;\n",
       "    }\n",
       "</style>\n",
       "<table border=\"1\" class=\"dataframe\">\n",
       "  <thead>\n",
       "    <tr style=\"text-align: right;\">\n",
       "      <th></th>\n",
       "      <th>category</th>\n",
       "      <th>accounts_count</th>\n",
       "    </tr>\n",
       "  </thead>\n",
       "  <tbody>\n",
       "    <tr>\n",
       "      <th>0</th>\n",
       "      <td>Low Salary</td>\n",
       "      <td>1</td>\n",
       "    </tr>\n",
       "    <tr>\n",
       "      <th>1</th>\n",
       "      <td>Average Salary</td>\n",
       "      <td>0</td>\n",
       "    </tr>\n",
       "    <tr>\n",
       "      <th>2</th>\n",
       "      <td>High Salary</td>\n",
       "      <td>3</td>\n",
       "    </tr>\n",
       "  </tbody>\n",
       "</table>\n",
       "</div>"
      ],
      "text/plain": [
       "         category  accounts_count\n",
       "0      Low Salary               1\n",
       "1  Average Salary               0\n",
       "2     High Salary               3"
      ]
     },
     "execution_count": 37,
     "metadata": {},
     "output_type": "execute_result"
    }
   ],
   "source": [
    "all_categories = ['Low Salary', 'Average Salary', 'High Salary']\n",
    "\n",
    "accounts_category['category'].value_counts().reindex(all_categories, fill_value=0).reset_index().rename(columns={'count':'accounts_count'})"
   ]
  },
  {
   "cell_type": "code",
   "execution_count": null,
   "id": "96ae772f-8c2b-432b-884d-9f1c31e12ebe",
   "metadata": {},
   "outputs": [],
   "source": []
  }
 ],
 "metadata": {
  "kernelspec": {
   "display_name": "Python 3 (ipykernel)",
   "language": "python",
   "name": "python3"
  },
  "language_info": {
   "codemirror_mode": {
    "name": "ipython",
    "version": 3
   },
   "file_extension": ".py",
   "mimetype": "text/x-python",
   "name": "python",
   "nbconvert_exporter": "python",
   "pygments_lexer": "ipython3",
   "version": "3.8.10"
  }
 },
 "nbformat": 4,
 "nbformat_minor": 5
}
